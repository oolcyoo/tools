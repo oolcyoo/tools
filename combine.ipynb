{
 "cells": [
  {
   "cell_type": "code",
   "execution_count": 7,
   "metadata": {},
   "outputs": [],
   "source": [
    "import os\n",
    "from PyPDF2 import PdfMerger"
   ]
  },
  {
   "cell_type": "code",
   "execution_count": 6,
   "metadata": {},
   "outputs": [
    {
     "name": "stdout",
     "output_type": "stream",
     "text": [
      "PDFs combined into 'combined.pdf' successfully.\n"
     ]
    }
   ],
   "source": [
    "\n",
    "def combine_pdfs_in_directory(directory_path, output_filename):\n",
    "    merger = PdfMerger()\n",
    "\n",
    "    for filename in os.listdir(directory_path):\n",
    "        if filename.endswith('.pdf'):\n",
    "            pdf_path = os.path.join(directory_path, filename)\n",
    "            merger.append(pdf_path)\n",
    "\n",
    "    with open(output_filename, 'wb') as output_file:\n",
    "        merger.write(output_file)\n",
    "\n",
    "if __name__ == \"__main__\":\n",
    "    path_to_pdfs = 'M6P'\n",
    "    output_pdf_filename = 'combined.pdf'\n",
    "\n",
    "    combine_pdfs_in_directory(path_to_pdfs, output_pdf_filename)\n",
    "    print(f\"PDFs combined into '{output_pdf_filename}' successfully.\")\n",
    "\n"
   ]
  },
  {
   "cell_type": "code",
   "execution_count": null,
   "metadata": {},
   "outputs": [],
   "source": []
  }
 ],
 "metadata": {
  "kernelspec": {
   "display_name": "Python 3",
   "language": "python",
   "name": "python3"
  },
  "language_info": {
   "codemirror_mode": {
    "name": "ipython",
    "version": 3
   },
   "file_extension": ".py",
   "mimetype": "text/x-python",
   "name": "python",
   "nbconvert_exporter": "python",
   "pygments_lexer": "ipython3",
   "version": "3.11.3"
  },
  "orig_nbformat": 4
 },
 "nbformat": 4,
 "nbformat_minor": 2
}
